{
 "cells": [
  {
   "cell_type": "code",
   "execution_count": 7,
   "id": "255de325",
   "metadata": {},
   "outputs": [],
   "source": [
    "import os  # This line imports the `os` module, which provides functions to interact with the operating system, such as file and directory operations.\n",
    "\n",
    "def process_and_save_uploaded_data(uploaded_file_path, output_dir):\n",
    "    # Ensures the output directory exists, creating it if necessary.\n",
    "    os.makedirs(output_dir, exist_ok=True)\n",
    "\n",
    "    # Initializes a counter variable to name the output text files incrementally.\n",
    "    file_counter = 1\n",
    "\n",
    "    # Opens the specified CSV file for reading.\n",
    "    with open(uploaded_file_path, 'r', encoding='utf-8') as file:\n",
    "        # Reads the content of the file line by line.\n",
    "        data = file.readlines()\n",
    "\n",
    "        # Saves each line as a separate txt file.\n",
    "        for line in data:\n",
    "            # Formats the output file name using the current value of `file_counter`.\n",
    "            output_file_name = f\"sns-{file_counter}.txt\"\n",
    "            output_file_path = os.path.join(output_dir, output_file_name)\n",
    "\n",
    "            # Opens a new text file in write mode with UTF-8 encoding to save the line.\n",
    "            with open(output_file_path, 'w', encoding='utf-8') as output_file:\n",
    "                # Writes the current line to the output file after stripping any whitespace.\n",
    "                output_file.write(line.strip())\n",
    "\n",
    "            # Increments the file counter to ensure unique file names for the next iteration.\n",
    "            file_counter += 1\n",
    "\n",
    "# Example usage\n",
    "uploaded_file_path = './data-sns.csv'  # Path to the uploaded CSV file\n",
    "output_dir = './text/sns/'          # Directory to save the output files\n",
    "\n",
    "process_and_save_uploaded_data(uploaded_file_path, output_dir)"
   ]
  }
 ],
 "metadata": {
  "kernelspec": {
   "display_name": "Python 3 (ipykernel)",
   "language": "python",
   "name": "python3"
  },
  "language_info": {
   "codemirror_mode": {
    "name": "ipython",
    "version": 3
   },
   "file_extension": ".py",
   "mimetype": "text/x-python",
   "name": "python",
   "nbconvert_exporter": "python",
   "pygments_lexer": "ipython3",
   "version": "3.12.7"
  }
 },
 "nbformat": 4,
 "nbformat_minor": 5
}
